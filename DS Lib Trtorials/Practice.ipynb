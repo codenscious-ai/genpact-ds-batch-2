{
 "cells": [
  {
   "cell_type": "code",
   "execution_count": 4,
   "id": "consistent-cambodia",
   "metadata": {},
   "outputs": [],
   "source": [
    "import numpy as np\n",
    "import pandas as pd"
   ]
  },
  {
   "cell_type": "code",
   "execution_count": 5,
   "id": "sealed-theater",
   "metadata": {},
   "outputs": [],
   "source": [
    "pandas_task = np.load(\"pandas_tasks.npy\")\n",
    "numpy_task = np.load(\"numpy_tasks.npy\")"
   ]
  },
  {
   "cell_type": "code",
   "execution_count": 6,
   "id": "domestic-sunglasses",
   "metadata": {
    "scrolled": true
   },
   "outputs": [
    {
     "name": "stdout",
     "output_type": "stream",
     "text": [
      "Press 1 for Pandas practice \n",
      " Press 2 for numpy practice1\n",
      "Number of tasks you want to do :5\n",
      "\n",
      "========\n",
      "\n",
      "head(), tail()\n",
      "Getting column and index names\n",
      "sorting on the basis of index and col values sort_index() and sort_values(by = )\n",
      "slicing dataframes with loc, iloc, at and iat\n",
      "copying dataframes \n"
     ]
    }
   ],
   "source": [
    "practice = int(input(\"Press 1 for Pandas practice \\n Press 2 for numpy practice\"))\n",
    "n_tasks = int(input(\"Number of tasks you want to do :\"))\n",
    "print(\"\\n========\\n\")\n",
    "\n",
    "tasks = pandas_task if practice == 1 else numpy_task\n",
    "x = np.vstack((tasks, np.random.default_rng().integers(2, size = tasks.shape))).T\n",
    "\n",
    "print(\"\\n\".join(x[x[:,1] == '1'][:n_tasks][:,0]))"
   ]
  },
  {
   "cell_type": "markdown",
   "id": "satisfactory-poland",
   "metadata": {},
   "source": []
  }
 ],
 "metadata": {
  "kernelspec": {
   "display_name": "Python 3",
   "language": "python",
   "name": "python3"
  },
  "language_info": {
   "codemirror_mode": {
    "name": "ipython",
    "version": 3
   },
   "file_extension": ".py",
   "mimetype": "text/x-python",
   "name": "python",
   "nbconvert_exporter": "python",
   "pygments_lexer": "ipython3",
   "version": "3.9.5"
  }
 },
 "nbformat": 4,
 "nbformat_minor": 5
}
