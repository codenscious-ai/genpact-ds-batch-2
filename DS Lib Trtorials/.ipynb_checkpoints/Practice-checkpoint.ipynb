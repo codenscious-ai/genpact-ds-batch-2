{
 "cells": [
  {
   "cell_type": "code",
   "execution_count": 2,
   "id": "consistent-cambodia",
   "metadata": {},
   "outputs": [],
   "source": [
    "import numpy as np\n",
    "import pandas as pd"
   ]
  },
  {
   "cell_type": "code",
   "execution_count": 3,
   "id": "sealed-theater",
   "metadata": {},
   "outputs": [],
   "source": [
    "pandas_task = np.load(\"pandas_tasks.npy\")\n",
    "numpy_task = np.load(\"numpy_tasks.npy\")"
   ]
  },
  {
   "cell_type": "code",
   "execution_count": 6,
   "id": "domestic-sunglasses",
   "metadata": {
    "scrolled": true
   },
   "outputs": [
    {
     "name": "stdout",
     "output_type": "stream",
     "text": [
      "Press 1 for Pandas practice \n",
      " Press 2 for numpy practice1\n",
      "Number of tasks you want to do :4\n",
      "\n",
      "========\n",
      "\n",
      "Getting column and index names\n",
      "summary stats with describe()\n",
      "sorting on the basis of index and col values sort_index() and sort_values(by = )\n",
      "Accessing columns and setting values\n"
     ]
    }
   ],
   "source": [
    "practice = int(input(\"Press 1 for Pandas practice \\n Press 2 for numpy practice\"))\n",
    "n_tasks = int(input(\"Number of tasks you want to do :\"))\n",
    "print(\"\\n========\\n\")\n",
    "\n",
    "tasks = pandas_task if practice == 1 else numpy_task\n",
    "x = np.vstack((tasks, np.random.default_rng().integers(2, size = tasks.shape))).T\n",
    "\n",
    "print(\"\\n\".join(x[x[:,1] == '1'][:n_tasks][:,0]))"
   ]
  },
  {
   "cell_type": "code",
   "execution_count": 9,
   "id": "disciplinary-somerset",
   "metadata": {},
   "outputs": [],
   "source": [
    "data = {\n",
    "    'a' : np.array([1,2,3,4]),\n",
    "    'b' : pd.Categorical(['good', 'bad', 'bad', 'bad']),\n",
    "    'c' : 2.3,\n",
    "    'd' : pd.Timestamp('20230307085800')\n",
    "}"
   ]
  },
  {
   "cell_type": "code",
   "execution_count": 12,
   "id": "deluxe-battery",
   "metadata": {},
   "outputs": [],
   "source": [
    "df = pd.DataFrame(data, index = pd.date_range(\"20230307\", periods = 4))"
   ]
  },
  {
   "cell_type": "code",
   "execution_count": 13,
   "id": "provincial-aviation",
   "metadata": {},
   "outputs": [
    {
     "data": {
      "text/html": [
       "<div>\n",
       "<style scoped>\n",
       "    .dataframe tbody tr th:only-of-type {\n",
       "        vertical-align: middle;\n",
       "    }\n",
       "\n",
       "    .dataframe tbody tr th {\n",
       "        vertical-align: top;\n",
       "    }\n",
       "\n",
       "    .dataframe thead th {\n",
       "        text-align: right;\n",
       "    }\n",
       "</style>\n",
       "<table border=\"1\" class=\"dataframe\">\n",
       "  <thead>\n",
       "    <tr style=\"text-align: right;\">\n",
       "      <th></th>\n",
       "      <th>a</th>\n",
       "      <th>b</th>\n",
       "      <th>c</th>\n",
       "      <th>d</th>\n",
       "    </tr>\n",
       "  </thead>\n",
       "  <tbody>\n",
       "    <tr>\n",
       "      <th>2023-03-07</th>\n",
       "      <td>1</td>\n",
       "      <td>good</td>\n",
       "      <td>2.3</td>\n",
       "      <td>2023-03-07 08:58:00</td>\n",
       "    </tr>\n",
       "    <tr>\n",
       "      <th>2023-03-08</th>\n",
       "      <td>2</td>\n",
       "      <td>bad</td>\n",
       "      <td>2.3</td>\n",
       "      <td>2023-03-07 08:58:00</td>\n",
       "    </tr>\n",
       "    <tr>\n",
       "      <th>2023-03-09</th>\n",
       "      <td>3</td>\n",
       "      <td>bad</td>\n",
       "      <td>2.3</td>\n",
       "      <td>2023-03-07 08:58:00</td>\n",
       "    </tr>\n",
       "    <tr>\n",
       "      <th>2023-03-10</th>\n",
       "      <td>4</td>\n",
       "      <td>bad</td>\n",
       "      <td>2.3</td>\n",
       "      <td>2023-03-07 08:58:00</td>\n",
       "    </tr>\n",
       "  </tbody>\n",
       "</table>\n",
       "</div>"
      ],
      "text/plain": [
       "            a     b    c                   d\n",
       "2023-03-07  1  good  2.3 2023-03-07 08:58:00\n",
       "2023-03-08  2   bad  2.3 2023-03-07 08:58:00\n",
       "2023-03-09  3   bad  2.3 2023-03-07 08:58:00\n",
       "2023-03-10  4   bad  2.3 2023-03-07 08:58:00"
      ]
     },
     "execution_count": 13,
     "metadata": {},
     "output_type": "execute_result"
    }
   ],
   "source": [
    "df"
   ]
  },
  {
   "cell_type": "code",
   "execution_count": null,
   "id": "chronic-serum",
   "metadata": {},
   "outputs": [],
   "source": []
  },
  {
   "cell_type": "code",
   "execution_count": null,
   "id": "immediate-fantasy",
   "metadata": {},
   "outputs": [],
   "source": []
  }
 ],
 "metadata": {
  "kernelspec": {
   "display_name": "Python 3",
   "language": "python",
   "name": "python3"
  },
  "language_info": {
   "codemirror_mode": {
    "name": "ipython",
    "version": 3
   },
   "file_extension": ".py",
   "mimetype": "text/x-python",
   "name": "python",
   "nbconvert_exporter": "python",
   "pygments_lexer": "ipython3",
   "version": "3.9.5"
  }
 },
 "nbformat": 4,
 "nbformat_minor": 5
}
