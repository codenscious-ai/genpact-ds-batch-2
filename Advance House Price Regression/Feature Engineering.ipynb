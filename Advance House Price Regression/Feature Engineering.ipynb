{
 "cells": [
  {
   "cell_type": "code",
   "execution_count": null,
   "id": "unnecessary-knife",
   "metadata": {},
   "outputs": [],
   "source": [
    "import pandas as pd\n",
    "import numpy as np\n",
    "import matplotlib.pyplot as plt\n",
    "import seaborn as sns"
   ]
  },
  {
   "cell_type": "code",
   "execution_count": null,
   "id": "northern-shipping",
   "metadata": {},
   "outputs": [],
   "source": [
    "pd.set_option('display.max_columns', None)"
   ]
  },
  {
   "cell_type": "code",
   "execution_count": null,
   "id": "informational-conspiracy",
   "metadata": {},
   "outputs": [],
   "source": [
    "df = pd.read_csv('data/train.csv')"
   ]
  },
  {
   "cell_type": "code",
   "execution_count": null,
   "id": "mechanical-passion",
   "metadata": {},
   "outputs": [],
   "source": [
    "df.head()"
   ]
  },
  {
   "cell_type": "code",
   "execution_count": null,
   "id": "crucial-netscape",
   "metadata": {},
   "outputs": [],
   "source": [
    "# from sklearn.model_selection import train_test_split\n",
    "# x_train, x_test, y_train, y_test = train_test_split(df, test_size = 0.1, random_state = 0)"
   ]
  },
  {
   "cell_type": "markdown",
   "id": "existing-provider",
   "metadata": {},
   "source": [
    "### Missing values for categorical values"
   ]
  },
  {
   "cell_type": "code",
   "execution_count": null,
   "id": "emotional-store",
   "metadata": {},
   "outputs": [],
   "source": [
    "features_nan = [feature for feature in df.columns if df[feature].isnull().sum() > 1 and df[feature].dtypes == 'O']"
   ]
  },
  {
   "cell_type": "code",
   "execution_count": null,
   "id": "specified-manner",
   "metadata": {},
   "outputs": [],
   "source": [
    "for feature in features_nan:\n",
    "    print(feature, np.round(df[feature].isnull().mean(), 3), '% null value')"
   ]
  },
  {
   "cell_type": "code",
   "execution_count": null,
   "id": "matched-algorithm",
   "metadata": {},
   "outputs": [],
   "source": [
    "df[features_nan] = df[features_nan].fillna('Missing')"
   ]
  },
  {
   "cell_type": "code",
   "execution_count": null,
   "id": "turned-dynamics",
   "metadata": {},
   "outputs": [],
   "source": [
    "for feature in features_nan:\n",
    "    print(feature, np.round(df[feature].isnull().mean(), 3), '% null value')"
   ]
  },
  {
   "cell_type": "markdown",
   "id": "pending-infection",
   "metadata": {},
   "source": [
    "### Missing values for numerical values"
   ]
  },
  {
   "cell_type": "code",
   "execution_count": null,
   "id": "instrumental-acoustic",
   "metadata": {},
   "outputs": [],
   "source": [
    "numerical_features_nan = [feature for feature in df.columns if df[feature].isnull().sum() > 1 and df[feature].dtypes != 'O']\n",
    "\n",
    "numerical_features_nan"
   ]
  },
  {
   "cell_type": "code",
   "execution_count": null,
   "id": "above-sarah",
   "metadata": {},
   "outputs": [],
   "source": [
    "for feature in numerical_features_nan:\n",
    "    median_val = df[feature].median()\n",
    "    df[feature + '_nan'] = np.where(df[feature].isnull(), 1, 0)\n",
    "    df[feature] = df[feature].fillna(median_val)\n",
    "    "
   ]
  },
  {
   "cell_type": "code",
   "execution_count": null,
   "id": "supposed-telephone",
   "metadata": {},
   "outputs": [],
   "source": [
    "df[numerical_features_nan].isnull().sum()"
   ]
  },
  {
   "cell_type": "code",
   "execution_count": null,
   "id": "abandoned-phone",
   "metadata": {},
   "outputs": [],
   "source": [
    "df"
   ]
  },
  {
   "cell_type": "markdown",
   "id": "alternative-print",
   "metadata": {},
   "source": [
    "### Temporal Variables"
   ]
  },
  {
   "cell_type": "code",
   "execution_count": null,
   "id": "spiritual-music",
   "metadata": {},
   "outputs": [],
   "source": [
    "year_features = [feature for feature in df.columns if 'Yr' in feature or 'Year' in feature]\n",
    "year_features"
   ]
  },
  {
   "cell_type": "code",
   "execution_count": null,
   "id": "backed-brooklyn",
   "metadata": {},
   "outputs": [],
   "source": [
    "for feature in ['YearBuilt', 'YearRemodAdd', 'GarageYrBlt']:\n",
    "    df[feature] = df['YrSold'] - df[feature]"
   ]
  },
  {
   "cell_type": "code",
   "execution_count": null,
   "id": "retained-dayton",
   "metadata": {
    "scrolled": true
   },
   "outputs": [],
   "source": [
    "df[year_features]"
   ]
  },
  {
   "cell_type": "markdown",
   "id": "blocked-pillow",
   "metadata": {},
   "source": [
    "### Transformations"
   ]
  },
  {
   "cell_type": "code",
   "execution_count": null,
   "id": "flush-graphic",
   "metadata": {},
   "outputs": [],
   "source": [
    "num_features = ['LotFrontage', 'LotArea', '1stFlrSF', 'GrLivArea', 'SalePrice']\n",
    "for feature in num_features:\n",
    "    df[feature] = np.log(df[feature])"
   ]
  },
  {
   "cell_type": "markdown",
   "id": "attended-stability",
   "metadata": {},
   "source": [
    "### Handling Rare Categories\n",
    "We will removecategorical variables that are present less than 1% in dataset"
   ]
  },
  {
   "cell_type": "code",
   "execution_count": null,
   "id": "satellite-belly",
   "metadata": {},
   "outputs": [],
   "source": [
    "cat_features = [feature for feature in df.columns if df[feature].dtypes == 'O']"
   ]
  },
  {
   "cell_type": "code",
   "execution_count": null,
   "id": "individual-nicaragua",
   "metadata": {},
   "outputs": [],
   "source": [
    "cat_features"
   ]
  },
  {
   "cell_type": "code",
   "execution_count": null,
   "id": "residential-allergy",
   "metadata": {},
   "outputs": [],
   "source": [
    "for feature in cat_features:\n",
    "    temp = df.groupby(feature)['SalePrice'].count() / len(df)\n",
    "    temp_df = temp[temp > 0.01].index\n",
    "    df[feature] = np.where(df[feature].isin(temp_df), df[feature], 'rare_var')"
   ]
  },
  {
   "cell_type": "code",
   "execution_count": null,
   "id": "transparent-ridge",
   "metadata": {},
   "outputs": [],
   "source": [
    "df.head()"
   ]
  },
  {
   "cell_type": "code",
   "execution_count": null,
   "id": "thirty-rendering",
   "metadata": {},
   "outputs": [],
   "source": [
    "for feature in cat_features:\n",
    "    print(feature, len(df[feature].unique()))"
   ]
  },
  {
   "cell_type": "code",
   "execution_count": null,
   "id": "exempt-quarter",
   "metadata": {},
   "outputs": [],
   "source": [
    "# df = pd.get_dummies(df, drop_first = True)\n",
    "# df.head()"
   ]
  },
  {
   "cell_type": "code",
   "execution_count": null,
   "id": "educated-gasoline",
   "metadata": {},
   "outputs": [],
   "source": [
    "df.shape"
   ]
  },
  {
   "cell_type": "code",
   "execution_count": null,
   "id": "exciting-indiana",
   "metadata": {},
   "outputs": [],
   "source": [
    "df"
   ]
  },
  {
   "cell_type": "markdown",
   "id": "meaningful-diving",
   "metadata": {},
   "source": [
    "### Variance Threshold"
   ]
  },
  {
   "cell_type": "code",
   "execution_count": null,
   "id": "worse-egypt",
   "metadata": {},
   "outputs": [],
   "source": [
    "num_features = [feature for feature in df.columns if df[feature].dtypes != 'O']\n",
    "df[num_features]"
   ]
  },
  {
   "cell_type": "code",
   "execution_count": null,
   "id": "attended-anthropology",
   "metadata": {},
   "outputs": [],
   "source": [
    "from sklearn.preprocessing import MinMaxScaler\n",
    "features_scale = [feature for feature in num_features if feature not in ['Id', 'SalePrice']]"
   ]
  },
  {
   "cell_type": "code",
   "execution_count": null,
   "id": "unusual-aluminum",
   "metadata": {},
   "outputs": [],
   "source": [
    "data = df[num_features].copy().drop(['Id', 'SalePrice'], axis = 1)\n",
    "data"
   ]
  },
  {
   "cell_type": "code",
   "execution_count": null,
   "id": "raised-stretch",
   "metadata": {},
   "outputs": [],
   "source": [
    "scaler = MinMaxScaler()\n",
    "scaler.fit(data)\n",
    "data = pd.DataFrame(scaler.transform(df[features_scale]), columns = features_scale)"
   ]
  },
  {
   "cell_type": "code",
   "execution_count": null,
   "id": "emerging-superintendent",
   "metadata": {},
   "outputs": [],
   "source": [
    "plt.bar(data.columns, data.var())\n",
    "plt.show()"
   ]
  },
  {
   "cell_type": "code",
   "execution_count": null,
   "id": "continuing-conclusion",
   "metadata": {},
   "outputs": [],
   "source": [
    "data.var()"
   ]
  },
  {
   "cell_type": "code",
   "execution_count": null,
   "id": "minor-record",
   "metadata": {},
   "outputs": [],
   "source": [
    "data"
   ]
  },
  {
   "cell_type": "code",
   "execution_count": null,
   "id": "published-ukraine",
   "metadata": {},
   "outputs": [],
   "source": [
    "from sklearn.feature_selection import VarianceThreshold\n",
    "\n",
    "var_thres = VarianceThreshold(threshold = 0.01)\n",
    "var_thres.fit(data)"
   ]
  },
  {
   "cell_type": "code",
   "execution_count": null,
   "id": "confidential-cleaner",
   "metadata": {},
   "outputs": [],
   "source": [
    "var_thres.get_support()"
   ]
  },
  {
   "cell_type": "code",
   "execution_count": null,
   "id": "consolidated-consortium",
   "metadata": {},
   "outputs": [],
   "source": [
    "low_variance_cols = [col for col in data.columns if col not in data.columns[var_thres.get_support()]]\n",
    "low_variance_cols"
   ]
  },
  {
   "cell_type": "code",
   "execution_count": null,
   "id": "provincial-heaven",
   "metadata": {},
   "outputs": [],
   "source": [
    "df['SalePrice'].var()"
   ]
  },
  {
   "cell_type": "code",
   "execution_count": null,
   "id": "framed-hearing",
   "metadata": {},
   "outputs": [],
   "source": [
    "# df = df.drop(low_variance_cols, axis = 1)"
   ]
  },
  {
   "cell_type": "code",
   "execution_count": null,
   "id": "conservative-heading",
   "metadata": {},
   "outputs": [],
   "source": [
    "df"
   ]
  },
  {
   "cell_type": "markdown",
   "id": "possible-interface",
   "metadata": {},
   "source": [
    "## Selection with correlation"
   ]
  },
  {
   "cell_type": "code",
   "execution_count": null,
   "id": "hydraulic-factory",
   "metadata": {},
   "outputs": [],
   "source": [
    "X = df.drop(\"SalePrice\", axis = 1)\n",
    "y = df[\"SalePrice\"]"
   ]
  },
  {
   "cell_type": "code",
   "execution_count": null,
   "id": "intended-maximum",
   "metadata": {},
   "outputs": [],
   "source": [
    "plt.figure(figsize = (40, 40))\n",
    "cor = X.corr()\n",
    "sns.heatmap(cor, annot = True, cmap = plt.cm.gray)\n",
    "plt.show()"
   ]
  },
  {
   "cell_type": "code",
   "execution_count": null,
   "id": "touched-celebration",
   "metadata": {},
   "outputs": [],
   "source": [
    "threshold = 0.87\n",
    "corrilated_features = set()\n",
    "for i in range(cor.shape[0]):\n",
    "    for j in range(cor.shape[1]):\n",
    "        if cor.iloc[i, j] > threshold and i != j:\n",
    "            colname = cor.columns[i]\n",
    "            corrilated_features.add(colname)\n",
    "\n",
    "corrilated_features"
   ]
  },
  {
   "cell_type": "markdown",
   "id": "distributed-poverty",
   "metadata": {},
   "source": [
    "## Mutual Info Regression"
   ]
  },
  {
   "cell_type": "code",
   "execution_count": null,
   "id": "colonial-milan",
   "metadata": {},
   "outputs": [],
   "source": [
    "from sklearn.feature_selection import mutual_info_regression"
   ]
  },
  {
   "cell_type": "code",
   "execution_count": null,
   "id": "twelve-ideal",
   "metadata": {},
   "outputs": [],
   "source": [
    "X = df[num_features].copy().drop(['SalePrice', 'Id'], axis = 1)\n",
    "y = df['SalePrice']"
   ]
  },
  {
   "cell_type": "code",
   "execution_count": null,
   "id": "amateur-medium",
   "metadata": {},
   "outputs": [],
   "source": [
    "mutual_info = mutual_info_regression(X, y)"
   ]
  },
  {
   "cell_type": "code",
   "execution_count": null,
   "id": "sublime-failing",
   "metadata": {},
   "outputs": [],
   "source": [
    "mutual_info"
   ]
  },
  {
   "cell_type": "code",
   "execution_count": null,
   "id": "placed-optimization",
   "metadata": {},
   "outputs": [],
   "source": [
    "mutual_info = pd.Series(mutual_info)\n",
    "mutual_info.index = X.columns\n",
    "mutual_info.sort_values(ascending = False)"
   ]
  },
  {
   "cell_type": "code",
   "execution_count": null,
   "id": "violent-quality",
   "metadata": {},
   "outputs": [],
   "source": [
    "mutual_info.sort_values(ascending = False).plot.bar(figsize = (15, 5))"
   ]
  },
  {
   "cell_type": "code",
   "execution_count": null,
   "id": "after-laundry",
   "metadata": {},
   "outputs": [],
   "source": [
    "df = pd.get_dummies(df, drop_first = True)\n",
    "df.head()"
   ]
  },
  {
   "cell_type": "code",
   "execution_count": null,
   "id": "twelve-garlic",
   "metadata": {},
   "outputs": [],
   "source": []
  },
  {
   "cell_type": "markdown",
   "id": "continental-philadelphia",
   "metadata": {},
   "source": [
    "### Feature Scaling"
   ]
  },
  {
   "cell_type": "code",
   "execution_count": null,
   "id": "shared-morrison",
   "metadata": {},
   "outputs": [],
   "source": [
    "from sklearn.preprocessing import MinMaxScaler"
   ]
  },
  {
   "cell_type": "code",
   "execution_count": null,
   "id": "loose-bridal",
   "metadata": {},
   "outputs": [],
   "source": [
    "features_scale = [feature for feature in df.columns if feature not in ['Id', 'SalePrice']]\n",
    "\n",
    "scaler = MinMaxScaler()\n",
    "scaler.fit(df[features_scale])"
   ]
  },
  {
   "cell_type": "code",
   "execution_count": null,
   "id": "spoken-flight",
   "metadata": {},
   "outputs": [],
   "source": [
    "data = pd.DataFrame(scaler.transform(df[features_scale]), columns = features_scale)"
   ]
  },
  {
   "cell_type": "code",
   "execution_count": null,
   "id": "spread-component",
   "metadata": {},
   "outputs": [],
   "source": [
    "data"
   ]
  },
  {
   "cell_type": "code",
   "execution_count": null,
   "id": "informed-malaysia",
   "metadata": {},
   "outputs": [],
   "source": [
    "from sklearn.linear_model import LinearRegression"
   ]
  },
  {
   "cell_type": "code",
   "execution_count": null,
   "id": "hundred-coral",
   "metadata": {},
   "outputs": [],
   "source": [
    "reg = LinearRegression()"
   ]
  },
  {
   "cell_type": "code",
   "execution_count": null,
   "id": "numerous-minnesota",
   "metadata": {},
   "outputs": [],
   "source": [
    "X_train = data\n",
    "y_train = df[\"SalePrice\"]"
   ]
  },
  {
   "cell_type": "code",
   "execution_count": null,
   "id": "compressed-stations",
   "metadata": {},
   "outputs": [],
   "source": [
    "reg.fit(X_train, y_train)"
   ]
  },
  {
   "cell_type": "code",
   "execution_count": null,
   "id": "patent-liberia",
   "metadata": {},
   "outputs": [],
   "source": []
  }
 ],
 "metadata": {
  "kernelspec": {
   "display_name": "Python 3",
   "language": "python",
   "name": "python3"
  },
  "language_info": {
   "codemirror_mode": {
    "name": "ipython",
    "version": 3
   },
   "file_extension": ".py",
   "mimetype": "text/x-python",
   "name": "python",
   "nbconvert_exporter": "python",
   "pygments_lexer": "ipython3",
   "version": "3.9.5"
  }
 },
 "nbformat": 4,
 "nbformat_minor": 5
}
