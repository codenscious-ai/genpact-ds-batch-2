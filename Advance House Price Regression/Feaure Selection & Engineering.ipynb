{
 "cells": [
  {
   "cell_type": "code",
   "execution_count": 1,
   "id": "found-pledge",
   "metadata": {},
   "outputs": [],
   "source": [
    "import numpy as np\n",
    "import pandas as pd\n",
    "import matplotlib.pyplot as plt\n",
    "import scipy.stats as stats"
   ]
  },
  {
   "cell_type": "code",
   "execution_count": null,
   "id": "understood-wholesale",
   "metadata": {},
   "outputs": [],
   "source": [
    "df = pd.read_csv('data/train.csv')"
   ]
  },
  {
   "cell_type": "code",
   "execution_count": null,
   "id": "pressed-apache",
   "metadata": {
    "scrolled": true
   },
   "outputs": [],
   "source": [
    "df.head()"
   ]
  },
  {
   "cell_type": "markdown",
   "id": "entertaining-breathing",
   "metadata": {},
   "source": [
    "## Target"
   ]
  },
  {
   "cell_type": "code",
   "execution_count": null,
   "id": "given-violence",
   "metadata": {},
   "outputs": [],
   "source": [
    "df['SalePrice'] = np.log(df['SalePrice'])"
   ]
  },
  {
   "cell_type": "markdown",
   "id": "purple-substance",
   "metadata": {},
   "source": [
    "## Land Property\n",
    "LotFrontage, LotArea, LotShape, LandContour, LandSlope"
   ]
  },
  {
   "cell_type": "code",
   "execution_count": null,
   "id": "contemporary-mission",
   "metadata": {},
   "outputs": [],
   "source": [
    "land_features = df[['LotFrontage', 'LotArea', 'LotShape', 'LandContour', 'LandSlope']]\n",
    "land_features"
   ]
  },
  {
   "cell_type": "markdown",
   "id": "conventional-naples",
   "metadata": {},
   "source": [
    "### LotFrontage"
   ]
  },
  {
   "cell_type": "code",
   "execution_count": null,
   "id": "overall-mystery",
   "metadata": {},
   "outputs": [],
   "source": [
    "df['LotFrontage'] = df['LotFrontage'].fillna(value = df['LotFrontage'].median())"
   ]
  },
  {
   "cell_type": "code",
   "execution_count": null,
   "id": "outside-terminology",
   "metadata": {},
   "outputs": [],
   "source": [
    "df['LotFrontage'].isna().sum()"
   ]
  },
  {
   "cell_type": "code",
   "execution_count": null,
   "id": "obvious-import",
   "metadata": {},
   "outputs": [],
   "source": [
    "data = land_features.copy()"
   ]
  },
  {
   "cell_type": "code",
   "execution_count": null,
   "id": "lucky-france",
   "metadata": {},
   "outputs": [],
   "source": [
    "df['LotFrontage'] = np.log(df['LotFrontage'])"
   ]
  },
  {
   "cell_type": "code",
   "execution_count": null,
   "id": "victorian-month",
   "metadata": {},
   "outputs": [],
   "source": [
    "corr, p_val = stats.pearsonr(df['LotFrontage'], df['SalePrice'])\n",
    "print(\"corr : \", corr, \"\\np_val : \", p_val)"
   ]
  },
  {
   "cell_type": "code",
   "execution_count": null,
   "id": "hollywood-syndicate",
   "metadata": {},
   "outputs": [],
   "source": [
    "p_val < 0.05"
   ]
  },
  {
   "cell_type": "markdown",
   "id": "weighted-tracy",
   "metadata": {},
   "source": [
    "### LotArea"
   ]
  },
  {
   "cell_type": "code",
   "execution_count": null,
   "id": "vietnamese-opera",
   "metadata": {},
   "outputs": [],
   "source": [
    "df['LotArea'] = np.log(df['LotArea'])"
   ]
  },
  {
   "cell_type": "code",
   "execution_count": null,
   "id": "quantitative-montgomery",
   "metadata": {},
   "outputs": [],
   "source": [
    "df[['LotArea', 'LotFrontage', 'SalePrice']].corr()"
   ]
  },
  {
   "cell_type": "code",
   "execution_count": null,
   "id": "honest-invalid",
   "metadata": {},
   "outputs": [],
   "source": [
    "corr, p_val = stats.pearsonr(df['LotArea'], df['SalePrice'])\n",
    "print(\"corr : \", corr, \"\\np_val : \", p_val)"
   ]
  },
  {
   "cell_type": "code",
   "execution_count": null,
   "id": "judicial-japanese",
   "metadata": {},
   "outputs": [],
   "source": [
    "p_val < 0.05"
   ]
  },
  {
   "cell_type": "markdown",
   "id": "traditional-catalog",
   "metadata": {},
   "source": [
    "### Checking Corr between independent features"
   ]
  },
  {
   "cell_type": "code",
   "execution_count": null,
   "id": "complex-durham",
   "metadata": {},
   "outputs": [],
   "source": [
    "df[['LotArea', 'LotFrontage']].corr()"
   ]
  },
  {
   "cell_type": "markdown",
   "id": "posted-scene",
   "metadata": {},
   "source": [
    "Drop Lot Frontage"
   ]
  },
  {
   "cell_type": "code",
   "execution_count": null,
   "id": "guided-protein",
   "metadata": {},
   "outputs": [],
   "source": []
  },
  {
   "cell_type": "code",
   "execution_count": null,
   "id": "weighted-fireplace",
   "metadata": {},
   "outputs": [],
   "source": []
  },
  {
   "cell_type": "code",
   "execution_count": null,
   "id": "internal-parks",
   "metadata": {},
   "outputs": [],
   "source": [
    "df['LotShape'].unique()"
   ]
  },
  {
   "cell_type": "code",
   "execution_count": null,
   "id": "critical-schema",
   "metadata": {},
   "outputs": [],
   "source": [
    "g1 = df[df['LotShape'] == 'Reg']['SalePrice']\n",
    "g2 = df[df['LotShape'] == 'IR1']['SalePrice']\n",
    "g3 = df[df['LotShape'] == 'IR2']['SalePrice']\n",
    "g4 = df[df['LotShape'] == 'IR3']['SalePrice']"
   ]
  },
  {
   "cell_type": "code",
   "execution_count": null,
   "id": "powerful-initial",
   "metadata": {},
   "outputs": [],
   "source": [
    "f_stat, p_val = stats.f_oneway(g1, g2, g3, g4)\n",
    "print(f_stat, p_val)"
   ]
  },
  {
   "cell_type": "code",
   "execution_count": null,
   "id": "weekly-internship",
   "metadata": {},
   "outputs": [],
   "source": [
    "p_val < 0.05"
   ]
  },
  {
   "cell_type": "code",
   "execution_count": null,
   "id": "potential-branch",
   "metadata": {},
   "outputs": [],
   "source": [
    "df['LandSlope'].unique()"
   ]
  },
  {
   "cell_type": "code",
   "execution_count": null,
   "id": "discrete-ivory",
   "metadata": {},
   "outputs": [],
   "source": [
    "g1 = df[df['LandSlope'] == 'Gtl']['LotArea']\n",
    "g2 = df[df['LandSlope'] == 'Mod']['LotArea']\n",
    "g3 = df[df['LandSlope'] == 'Sev']['LotArea']"
   ]
  },
  {
   "cell_type": "code",
   "execution_count": null,
   "id": "electronic-gamma",
   "metadata": {},
   "outputs": [],
   "source": [
    "f_stat, p_val = stats.f_oneway(g1, g2, g3, g4)\n",
    "print(f_stat, p_val)"
   ]
  },
  {
   "cell_type": "code",
   "execution_count": null,
   "id": "occasional-rachel",
   "metadata": {},
   "outputs": [],
   "source": []
  },
  {
   "cell_type": "markdown",
   "id": "military-denver",
   "metadata": {},
   "source": [
    "# Basement Features\n"
   ]
  },
  {
   "cell_type": "code",
   "execution_count": null,
   "id": "remarkable-batman",
   "metadata": {},
   "outputs": [],
   "source": [
    "basement_features = df[['BsmtQual',\n",
    "'BsmtCond',\n",
    "'BsmtExposure',\n",
    "'BsmtFinType1',\n",
    "'BsmtFinSF1',\n",
    "'BsmtFinType2',\n",
    "'BsmtFinSF2',\n",
    "'BsmtUnfSF',\n",
    "'TotalBsmtSF',\n",
    "'BsmtFullBath',\n",
    "'BsmtHalfBath',]]"
   ]
  },
  {
   "cell_type": "code",
   "execution_count": null,
   "id": "assigned-studio",
   "metadata": {},
   "outputs": [],
   "source": [
    "basement_features"
   ]
  },
  {
   "cell_type": "code",
   "execution_count": null,
   "id": "aquatic-northeast",
   "metadata": {},
   "outputs": [],
   "source": [
    "data = basement_features.copy()"
   ]
  },
  {
   "cell_type": "code",
   "execution_count": null,
   "id": "representative-republican",
   "metadata": {},
   "outputs": [],
   "source": [
    "plt.hist(df['BsmtFinSF1'], bins = 40)\n",
    "plt.show()"
   ]
  },
  {
   "cell_type": "code",
   "execution_count": null,
   "id": "laughing-delivery",
   "metadata": {},
   "outputs": [],
   "source": [
    "corr, p_val = stats.pearsonr(df['BsmtFinSF1'], df['TotalBsmtSF'])\n",
    "print(corr, p_val)"
   ]
  },
  {
   "cell_type": "code",
   "execution_count": null,
   "id": "first-kennedy",
   "metadata": {},
   "outputs": [],
   "source": [
    "p_val < 0.05"
   ]
  },
  {
   "cell_type": "code",
   "execution_count": null,
   "id": "developmental-payroll",
   "metadata": {},
   "outputs": [],
   "source": [
    "df['BsmtFullBath'].unique()"
   ]
  },
  {
   "cell_type": "code",
   "execution_count": null,
   "id": "electric-roman",
   "metadata": {},
   "outputs": [],
   "source": [
    "df['BsmtQual'] = df['BsmtQual'].fillna(value = 'No Basement')\n",
    "df['BsmtCond'] = df['BsmtCond'].fillna(value = 'No Basement')\n",
    "df['BsmtExposure'] = df['BsmtExposure'].fillna(value = 'No Basement')\n",
    "df['BsmtFinType2'] = df['BsmtFinType2'].fillna(value = 'No Basement')\n"
   ]
  },
  {
   "cell_type": "code",
   "execution_count": null,
   "id": "dress-married",
   "metadata": {},
   "outputs": [],
   "source": [
    "\n",
    "def anova_groups(d_feature, c_feature, ignore = ''):\n",
    "    groups = []\n",
    "    for cat in df[d_feature].unique():\n",
    "        if cat != ignore:\n",
    "            print(cat)\n",
    "            df[df[d_feature] == cat][c_feature]\n",
    "            groups.append(df[df[d_feature] == cat][c_feature])\n",
    "\n",
    "    return groups\n",
    "    \n",
    "    "
   ]
  },
  {
   "cell_type": "code",
   "execution_count": null,
   "id": "baking-messaging",
   "metadata": {},
   "outputs": [],
   "source": [
    "groups = anova_groups(d_feature = 'KitchenQual', c_feature = 'SalePrice')"
   ]
  },
  {
   "cell_type": "code",
   "execution_count": null,
   "id": "maritime-navigation",
   "metadata": {},
   "outputs": [],
   "source": [
    "f_stat, p_val = stats.f_oneway(groups[0], groups[1], groups[2])\n",
    "print(f_stat, p_val)"
   ]
  },
  {
   "cell_type": "markdown",
   "id": "secondary-malaysia",
   "metadata": {},
   "source": [
    "BasementQual\n",
    "300.3923243191743 2.031281939790327e-188\n",
    "\n",
    "BsmtCond\n",
    "34.504086533842255 1.4927541408939521e-27\n",
    "\n",
    "BsmtExposure\n",
    "60.49458686046996 2.590707192162915e-47\n",
    "\n",
    "BsmtHalfBath\n",
    "0.030936149052788492 0.9695381138187172\n",
    "\n",
    "BsmtFinType2\n",
    "29.61917200515036 2.6062698303303355e-13\n",
    "\n",
    "BsmtFullBath\n",
    "29.595109471751318 1.4248324941269371e-18\n",
    "\n",
    "KitchenQual\n",
    "569.1052396037583 3.568211071739858e-182\n",
    "\n"
   ]
  },
  {
   "cell_type": "code",
   "execution_count": null,
   "id": "accurate-census",
   "metadata": {},
   "outputs": [],
   "source": []
  },
  {
   "cell_type": "code",
   "execution_count": null,
   "id": "likely-survey",
   "metadata": {},
   "outputs": [],
   "source": []
  },
  {
   "cell_type": "code",
   "execution_count": null,
   "id": "finished-child",
   "metadata": {},
   "outputs": [],
   "source": []
  },
  {
   "cell_type": "code",
   "execution_count": null,
   "id": "agreed-position",
   "metadata": {},
   "outputs": [],
   "source": [
    "observed = pd.crosstab(\n",
    "    df[df['BsmtQual'] != 'No Basement']['BsmtQual'], \n",
    "    df[df['BsmtExposure'] != 'No Basement' ]['BsmtExposure']\n",
    ")\n",
    "observed"
   ]
  },
  {
   "cell_type": "code",
   "execution_count": null,
   "id": "second-giving",
   "metadata": {},
   "outputs": [],
   "source": [
    "chi2_stats, p_val, dof, expected = stats.chi2_contingency(observed)"
   ]
  },
  {
   "cell_type": "code",
   "execution_count": null,
   "id": "allied-daniel",
   "metadata": {},
   "outputs": [],
   "source": [
    "expected < 5"
   ]
  },
  {
   "cell_type": "code",
   "execution_count": null,
   "id": "macro-episode",
   "metadata": {},
   "outputs": [],
   "source": [
    "p_val"
   ]
  },
  {
   "cell_type": "code",
   "execution_count": null,
   "id": "lonely-spiritual",
   "metadata": {},
   "outputs": [],
   "source": []
  },
  {
   "cell_type": "markdown",
   "id": "minus-halloween",
   "metadata": {},
   "source": [
    "# Building Property"
   ]
  },
  {
   "cell_type": "code",
   "execution_count": null,
   "id": "noted-institution",
   "metadata": {},
   "outputs": [],
   "source": [
    "building_properties = df[[\n",
    "    'BldgType',\n",
    "    'RoofStyle',\n",
    "    'RoofMatl',\n",
    "    '1stFlrSF',\n",
    "    '2ndFlrSF',\n",
    "    'LowQualFinSF',\n",
    "    'GrLivArea',\n",
    "    'FullBath',\n",
    "    'HalfBath',\n",
    "    'BedroomAbvGr',\n",
    "    'KitchenAbvGr',\n",
    "    'KitchenQual',\n",
    "    'Fence'\n",
    "]]"
   ]
  },
  {
   "cell_type": "code",
   "execution_count": null,
   "id": "aquatic-potter",
   "metadata": {},
   "outputs": [],
   "source": [
    "building_properties.head()"
   ]
  },
  {
   "cell_type": "code",
   "execution_count": null,
   "id": "italian-cannon",
   "metadata": {},
   "outputs": [],
   "source": [
    "df['BldgType'].unique()"
   ]
  },
  {
   "cell_type": "code",
   "execution_count": null,
   "id": "working-estonia",
   "metadata": {},
   "outputs": [],
   "source": [
    "groups = anova_groups(d_feature = 'BsmtCond', c_feature = 'SalePrice', ignore = '')"
   ]
  },
  {
   "cell_type": "code",
   "execution_count": null,
   "id": "honest-infrastructure",
   "metadata": {},
   "outputs": [],
   "source": [
    "f_stat, p_val = stats.f_oneway(groups[0], groups[1], groups[2], groups[3], groups[4])\n",
    "print(f_stat, p_val)"
   ]
  },
  {
   "cell_type": "markdown",
   "id": "unknown-remains",
   "metadata": {},
   "source": [
    "BldgType\n",
    "15.211667391724271 3.4367936403015973e-12\n",
    "\n",
    "BsmtCond\n",
    "19.70813904568719 8.195793756122466e-16\n",
    "\n",
    "Fence\n",
    "16.10290232659194 6.560318639536422e-13\n",
    "\n",
    "GrLivArea\n",
    "0.7086244776126521 4.518033646779945e-223\n",
    "\n",
    "1stFlrSF\n",
    "0.6058521846919146 5.394710618971284e-147\n",
    "\n",
    "2ndFlrSF\n",
    "0.3193338028320678 5.764335119183061e-36"
   ]
  },
  {
   "cell_type": "code",
   "execution_count": null,
   "id": "extended-subscriber",
   "metadata": {},
   "outputs": [],
   "source": [
    "df['Fence'] = df['Fence'].fillna('No Fence')"
   ]
  },
  {
   "cell_type": "code",
   "execution_count": null,
   "id": "saving-discretion",
   "metadata": {},
   "outputs": [],
   "source": [
    "feature = 'KitchenQual'\n",
    "df.groupby(feature)['SalePrice'].median().plot.bar()\n",
    "plt.xlabel(feature)\n",
    "plt.ylabel('Sale Price')\n",
    "plt.title(feature)\n",
    "plt.show()"
   ]
  },
  {
   "cell_type": "code",
   "execution_count": null,
   "id": "racial-universe",
   "metadata": {},
   "outputs": [],
   "source": [
    "df['BsmtCond'].value_counts()"
   ]
  },
  {
   "cell_type": "code",
   "execution_count": null,
   "id": "native-chrome",
   "metadata": {},
   "outputs": [],
   "source": [
    "observed = pd.crosstab(df['RoofStyle'], df['RoofMatl'])\n",
    "observed"
   ]
  },
  {
   "cell_type": "code",
   "execution_count": null,
   "id": "ordered-sherman",
   "metadata": {},
   "outputs": [],
   "source": [
    "df[(df['RoofStyle'] == 'Gable') & (df['RoofMatl'] == 'CompShg')]['SalePrice'].median()"
   ]
  },
  {
   "cell_type": "code",
   "execution_count": null,
   "id": "acute-orlando",
   "metadata": {},
   "outputs": [],
   "source": [
    "df['RoofStyle'].unique()"
   ]
  },
  {
   "cell_type": "code",
   "execution_count": null,
   "id": "manual-guide",
   "metadata": {},
   "outputs": [],
   "source": [
    "df[(df['RoofStyle'] != 'Gable') & (df['RoofMatl'] != 'CompShg')]"
   ]
  },
  {
   "cell_type": "code",
   "execution_count": null,
   "id": "operational-package",
   "metadata": {},
   "outputs": [],
   "source": [
    "chi2_stats, p_val, dof, expected = stats.chi2_contingency(observed)"
   ]
  },
  {
   "cell_type": "code",
   "execution_count": null,
   "id": "wrapped-light",
   "metadata": {},
   "outputs": [],
   "source": [
    "expected < 5"
   ]
  },
  {
   "cell_type": "code",
   "execution_count": null,
   "id": "signed-manhattan",
   "metadata": {},
   "outputs": [],
   "source": [
    "p_val < 0.05"
   ]
  },
  {
   "cell_type": "code",
   "execution_count": null,
   "id": "fossil-attitude",
   "metadata": {},
   "outputs": [],
   "source": [
    "df[df['RoofMatl'] != 'CompShg'] = 'Others'\n",
    "df[df['RoofStyle'] != 'Gable'] = 'Others'"
   ]
  },
  {
   "cell_type": "code",
   "execution_count": null,
   "id": "invalid-mason",
   "metadata": {},
   "outputs": [],
   "source": [
    "\n",
    "df['RoofStyle'].value_counts()"
   ]
  },
  {
   "cell_type": "code",
   "execution_count": null,
   "id": "incomplete-arabic",
   "metadata": {},
   "outputs": [],
   "source": [
    "df['BsmtCond'] = df['BsmtCond'].fillna(value = 'Unknown')"
   ]
  },
  {
   "cell_type": "code",
   "execution_count": null,
   "id": "identified-analysis",
   "metadata": {},
   "outputs": [],
   "source": [
    "df['BsmtCond'].isna().sum()"
   ]
  },
  {
   "cell_type": "code",
   "execution_count": null,
   "id": "agricultural-daisy",
   "metadata": {},
   "outputs": [],
   "source": []
  },
  {
   "cell_type": "code",
   "execution_count": null,
   "id": "rational-apache",
   "metadata": {},
   "outputs": [],
   "source": []
  },
  {
   "cell_type": "code",
   "execution_count": null,
   "id": "oriental-typing",
   "metadata": {},
   "outputs": [],
   "source": [
    "plt.hist(df[df['2ndFlrSF'] > 50]['2ndFlrSF'], bins = 50)\n",
    "plt.show()"
   ]
  },
  {
   "cell_type": "code",
   "execution_count": null,
   "id": "geological-salmon",
   "metadata": {},
   "outputs": [],
   "source": [
    "corr, p_val = stats.pearsonr(df[df['2ndFlrSF'] > 50]['2ndFlrSF'], df[df['2ndFlrSF'] > 50]['SalePrice'])\n",
    "print(corr, p_val)"
   ]
  },
  {
   "cell_type": "code",
   "execution_count": null,
   "id": "educated-jungle",
   "metadata": {},
   "outputs": [],
   "source": [
    "df[['1stFlrSF', 'GrLivArea', '2ndFlrSF', 'SalePrice']].corr()"
   ]
  },
  {
   "cell_type": "code",
   "execution_count": null,
   "id": "metropolitan-fifteen",
   "metadata": {},
   "outputs": [],
   "source": [
    "len(df[df['2ndFlrSF'] > 50]['2ndFlrSF']) / len(df)"
   ]
  },
  {
   "cell_type": "code",
   "execution_count": null,
   "id": "vocational-prophet",
   "metadata": {},
   "outputs": [],
   "source": [
    "data = df.copy()\n",
    "data['2ndFlrSF'] = np.log(data['2ndFlrSF'])"
   ]
  },
  {
   "cell_type": "code",
   "execution_count": null,
   "id": "colonial-florence",
   "metadata": {},
   "outputs": [],
   "source": [
    "plt.hist(data['2ndFlrSF'], bins = 50)\n",
    "plt.show()"
   ]
  },
  {
   "cell_type": "code",
   "execution_count": null,
   "id": "breeding-franklin",
   "metadata": {},
   "outputs": [],
   "source": []
  },
  {
   "cell_type": "code",
   "execution_count": null,
   "id": "muslim-silicon",
   "metadata": {},
   "outputs": [],
   "source": []
  }
 ],
 "metadata": {
  "kernelspec": {
   "display_name": "Python 3",
   "language": "python",
   "name": "python3"
  },
  "language_info": {
   "codemirror_mode": {
    "name": "ipython",
    "version": 3
   },
   "file_extension": ".py",
   "mimetype": "text/x-python",
   "name": "python",
   "nbconvert_exporter": "python",
   "pygments_lexer": "ipython3",
   "version": "3.9.5"
  }
 },
 "nbformat": 4,
 "nbformat_minor": 5
}
