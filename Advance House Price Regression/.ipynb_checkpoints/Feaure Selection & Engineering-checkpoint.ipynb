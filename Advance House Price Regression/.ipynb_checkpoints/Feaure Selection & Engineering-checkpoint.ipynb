{
 "cells": [
  {
   "cell_type": "code",
   "execution_count": null,
   "id": "hired-agenda",
   "metadata": {},
   "outputs": [],
   "source": [
    "import numpy as np\n",
    "import pandas as pd\n",
    "import matplotlib.pyplot as plt\n",
    "import scipy.stats as stats"
   ]
  },
  {
   "cell_type": "code",
   "execution_count": null,
   "id": "included-monaco",
   "metadata": {},
   "outputs": [],
   "source": [
    "df = pd.read_csv('data/train.csv')"
   ]
  },
  {
   "cell_type": "code",
   "execution_count": null,
   "id": "impossible-discharge",
   "metadata": {
    "scrolled": true
   },
   "outputs": [],
   "source": [
    "df.head()"
   ]
  },
  {
   "cell_type": "markdown",
   "id": "changed-holocaust",
   "metadata": {},
   "source": [
    "## Target"
   ]
  },
  {
   "cell_type": "code",
   "execution_count": null,
   "id": "unable-confirmation",
   "metadata": {},
   "outputs": [],
   "source": [
    "df['SalePrice'] = np.log(df['SalePrice'])"
   ]
  },
  {
   "cell_type": "markdown",
   "id": "instant-council",
   "metadata": {},
   "source": [
    "## Land Property\n",
    "LotFrontage, LotArea, LotShape, LandContour, LandSlope"
   ]
  },
  {
   "cell_type": "code",
   "execution_count": 39,
   "id": "inner-barcelona",
   "metadata": {},
   "outputs": [
    {
     "data": {
      "text/html": [
       "<div>\n",
       "<style scoped>\n",
       "    .dataframe tbody tr th:only-of-type {\n",
       "        vertical-align: middle;\n",
       "    }\n",
       "\n",
       "    .dataframe tbody tr th {\n",
       "        vertical-align: top;\n",
       "    }\n",
       "\n",
       "    .dataframe thead th {\n",
       "        text-align: right;\n",
       "    }\n",
       "</style>\n",
       "<table border=\"1\" class=\"dataframe\">\n",
       "  <thead>\n",
       "    <tr style=\"text-align: right;\">\n",
       "      <th></th>\n",
       "      <th>LotFrontage</th>\n",
       "      <th>LotArea</th>\n",
       "      <th>LotShape</th>\n",
       "      <th>LandContour</th>\n",
       "      <th>LandSlope</th>\n",
       "    </tr>\n",
       "  </thead>\n",
       "  <tbody>\n",
       "    <tr>\n",
       "      <th>0</th>\n",
       "      <td>4.174387</td>\n",
       "      <td>9.041922</td>\n",
       "      <td>Reg</td>\n",
       "      <td>Lvl</td>\n",
       "      <td>Gtl</td>\n",
       "    </tr>\n",
       "    <tr>\n",
       "      <th>1</th>\n",
       "      <td>4.382027</td>\n",
       "      <td>9.169518</td>\n",
       "      <td>Reg</td>\n",
       "      <td>Lvl</td>\n",
       "      <td>Gtl</td>\n",
       "    </tr>\n",
       "    <tr>\n",
       "      <th>2</th>\n",
       "      <td>4.219508</td>\n",
       "      <td>9.328123</td>\n",
       "      <td>IR1</td>\n",
       "      <td>Lvl</td>\n",
       "      <td>Gtl</td>\n",
       "    </tr>\n",
       "    <tr>\n",
       "      <th>3</th>\n",
       "      <td>4.094345</td>\n",
       "      <td>9.164296</td>\n",
       "      <td>IR1</td>\n",
       "      <td>Lvl</td>\n",
       "      <td>Gtl</td>\n",
       "    </tr>\n",
       "    <tr>\n",
       "      <th>4</th>\n",
       "      <td>4.430817</td>\n",
       "      <td>9.565214</td>\n",
       "      <td>IR1</td>\n",
       "      <td>Lvl</td>\n",
       "      <td>Gtl</td>\n",
       "    </tr>\n",
       "    <tr>\n",
       "      <th>...</th>\n",
       "      <td>...</td>\n",
       "      <td>...</td>\n",
       "      <td>...</td>\n",
       "      <td>...</td>\n",
       "      <td>...</td>\n",
       "    </tr>\n",
       "    <tr>\n",
       "      <th>1455</th>\n",
       "      <td>4.127134</td>\n",
       "      <td>8.976768</td>\n",
       "      <td>Reg</td>\n",
       "      <td>Lvl</td>\n",
       "      <td>Gtl</td>\n",
       "    </tr>\n",
       "    <tr>\n",
       "      <th>1456</th>\n",
       "      <td>4.442651</td>\n",
       "      <td>9.486076</td>\n",
       "      <td>Reg</td>\n",
       "      <td>Lvl</td>\n",
       "      <td>Gtl</td>\n",
       "    </tr>\n",
       "    <tr>\n",
       "      <th>1457</th>\n",
       "      <td>4.189655</td>\n",
       "      <td>9.109636</td>\n",
       "      <td>Reg</td>\n",
       "      <td>Lvl</td>\n",
       "      <td>Gtl</td>\n",
       "    </tr>\n",
       "    <tr>\n",
       "      <th>1458</th>\n",
       "      <td>4.219508</td>\n",
       "      <td>9.181632</td>\n",
       "      <td>Reg</td>\n",
       "      <td>Lvl</td>\n",
       "      <td>Gtl</td>\n",
       "    </tr>\n",
       "    <tr>\n",
       "      <th>1459</th>\n",
       "      <td>4.317488</td>\n",
       "      <td>9.204020</td>\n",
       "      <td>Reg</td>\n",
       "      <td>Lvl</td>\n",
       "      <td>Gtl</td>\n",
       "    </tr>\n",
       "  </tbody>\n",
       "</table>\n",
       "<p>1460 rows × 5 columns</p>\n",
       "</div>"
      ],
      "text/plain": [
       "      LotFrontage   LotArea LotShape LandContour LandSlope\n",
       "0        4.174387  9.041922      Reg         Lvl       Gtl\n",
       "1        4.382027  9.169518      Reg         Lvl       Gtl\n",
       "2        4.219508  9.328123      IR1         Lvl       Gtl\n",
       "3        4.094345  9.164296      IR1         Lvl       Gtl\n",
       "4        4.430817  9.565214      IR1         Lvl       Gtl\n",
       "...           ...       ...      ...         ...       ...\n",
       "1455     4.127134  8.976768      Reg         Lvl       Gtl\n",
       "1456     4.442651  9.486076      Reg         Lvl       Gtl\n",
       "1457     4.189655  9.109636      Reg         Lvl       Gtl\n",
       "1458     4.219508  9.181632      Reg         Lvl       Gtl\n",
       "1459     4.317488  9.204020      Reg         Lvl       Gtl\n",
       "\n",
       "[1460 rows x 5 columns]"
      ]
     },
     "execution_count": 39,
     "metadata": {},
     "output_type": "execute_result"
    }
   ],
   "source": [
    "land_features = df[['LotFrontage', 'LotArea', 'LotShape', 'LandContour', 'LandSlope']]\n",
    "land_features"
   ]
  },
  {
   "cell_type": "markdown",
   "id": "necessary-element",
   "metadata": {},
   "source": [
    "### LotFrontage"
   ]
  },
  {
   "cell_type": "code",
   "execution_count": null,
   "id": "alert-broadway",
   "metadata": {},
   "outputs": [],
   "source": [
    "df['LotFrontage'] = df['LotFrontage'].fillna(value = df['LotFrontage'].median())"
   ]
  },
  {
   "cell_type": "code",
   "execution_count": null,
   "id": "russian-warren",
   "metadata": {},
   "outputs": [],
   "source": [
    "df['LotFrontage'].isna().sum()"
   ]
  },
  {
   "cell_type": "code",
   "execution_count": null,
   "id": "nutritional-catering",
   "metadata": {},
   "outputs": [],
   "source": [
    "data = land_features.copy()"
   ]
  },
  {
   "cell_type": "code",
   "execution_count": null,
   "id": "silent-department",
   "metadata": {},
   "outputs": [],
   "source": [
    "df['LotFrontage'] = np.log(df['LotFrontage'])"
   ]
  },
  {
   "cell_type": "code",
   "execution_count": 45,
   "id": "extensive-sauce",
   "metadata": {},
   "outputs": [
    {
     "name": "stdout",
     "output_type": "stream",
     "text": [
      "corr :  0.34575486632303076 \n",
      "p_val :  2.951643834491112e-42\n"
     ]
    }
   ],
   "source": [
    "corr, p_val = stats.pearsonr(df['LotFrontage'], df['SalePrice'])\n",
    "print(\"corr : \", corr, \"\\np_val : \", p_val)"
   ]
  },
  {
   "cell_type": "code",
   "execution_count": 46,
   "id": "thirty-science",
   "metadata": {},
   "outputs": [
    {
     "data": {
      "text/plain": [
       "True"
      ]
     },
     "execution_count": 46,
     "metadata": {},
     "output_type": "execute_result"
    }
   ],
   "source": [
    "p_val < 0.05"
   ]
  },
  {
   "cell_type": "markdown",
   "id": "photographic-black",
   "metadata": {},
   "source": [
    "### LotArea"
   ]
  },
  {
   "cell_type": "code",
   "execution_count": null,
   "id": "alive-grade",
   "metadata": {},
   "outputs": [],
   "source": [
    "df['LotArea'] = np.log(df['LotArea'])"
   ]
  },
  {
   "cell_type": "code",
   "execution_count": null,
   "id": "practical-small",
   "metadata": {},
   "outputs": [],
   "source": [
    "df[['LotArea', 'LotFrontage', 'SalePrice']].corr()"
   ]
  },
  {
   "cell_type": "code",
   "execution_count": 44,
   "id": "later-correspondence",
   "metadata": {},
   "outputs": [
    {
     "name": "stdout",
     "output_type": "stream",
     "text": [
      "corr :  0.3999177411255903 \n",
      "p_val :  3.474294176396407e-57\n"
     ]
    }
   ],
   "source": [
    "corr, p_val = stats.pearsonr(df['LotArea'], df['SalePrice'])\n",
    "print(\"corr : \", corr, \"\\np_val : \", p_val)"
   ]
  },
  {
   "cell_type": "code",
   "execution_count": 43,
   "id": "prospective-beads",
   "metadata": {},
   "outputs": [
    {
     "data": {
      "text/plain": [
       "True"
      ]
     },
     "execution_count": 43,
     "metadata": {},
     "output_type": "execute_result"
    }
   ],
   "source": [
    "p_val < 0.05"
   ]
  },
  {
   "cell_type": "markdown",
   "id": "assigned-joint",
   "metadata": {},
   "source": [
    "### Checking Corr between independent features"
   ]
  },
  {
   "cell_type": "code",
   "execution_count": 49,
   "id": "robust-telescope",
   "metadata": {},
   "outputs": [
    {
     "data": {
      "text/html": [
       "<div>\n",
       "<style scoped>\n",
       "    .dataframe tbody tr th:only-of-type {\n",
       "        vertical-align: middle;\n",
       "    }\n",
       "\n",
       "    .dataframe tbody tr th {\n",
       "        vertical-align: top;\n",
       "    }\n",
       "\n",
       "    .dataframe thead th {\n",
       "        text-align: right;\n",
       "    }\n",
       "</style>\n",
       "<table border=\"1\" class=\"dataframe\">\n",
       "  <thead>\n",
       "    <tr style=\"text-align: right;\">\n",
       "      <th></th>\n",
       "      <th>LotArea</th>\n",
       "      <th>LotFrontage</th>\n",
       "    </tr>\n",
       "  </thead>\n",
       "  <tbody>\n",
       "    <tr>\n",
       "      <th>LotArea</th>\n",
       "      <td>1.000000</td>\n",
       "      <td>0.653416</td>\n",
       "    </tr>\n",
       "    <tr>\n",
       "      <th>LotFrontage</th>\n",
       "      <td>0.653416</td>\n",
       "      <td>1.000000</td>\n",
       "    </tr>\n",
       "  </tbody>\n",
       "</table>\n",
       "</div>"
      ],
      "text/plain": [
       "              LotArea  LotFrontage\n",
       "LotArea      1.000000     0.653416\n",
       "LotFrontage  0.653416     1.000000"
      ]
     },
     "execution_count": 49,
     "metadata": {},
     "output_type": "execute_result"
    }
   ],
   "source": [
    "df[['LotArea', 'LotFrontage']].corr()"
   ]
  },
  {
   "cell_type": "markdown",
   "id": "australian-marina",
   "metadata": {},
   "source": [
    "Drop Lot Frontage"
   ]
  },
  {
   "cell_type": "code",
   "execution_count": null,
   "id": "combined-disaster",
   "metadata": {},
   "outputs": [],
   "source": []
  },
  {
   "cell_type": "code",
   "execution_count": null,
   "id": "dying-spanish",
   "metadata": {},
   "outputs": [],
   "source": []
  },
  {
   "cell_type": "code",
   "execution_count": 73,
   "id": "anticipated-registrar",
   "metadata": {},
   "outputs": [
    {
     "data": {
      "text/plain": [
       "array(['Reg', 'IR1', 'IR2', 'IR3'], dtype=object)"
      ]
     },
     "execution_count": 73,
     "metadata": {},
     "output_type": "execute_result"
    }
   ],
   "source": [
    "df['LotShape'].unique()"
   ]
  },
  {
   "cell_type": "code",
   "execution_count": 70,
   "id": "downtown-choir",
   "metadata": {},
   "outputs": [],
   "source": [
    "g1 = df[df['LotShape'] == 'Reg']['SalePrice']\n",
    "g2 = df[df['LotShape'] == 'IR1']['SalePrice']\n",
    "g3 = df[df['LotShape'] == 'IR2']['SalePrice']\n",
    "g4 = df[df['LotShape'] == 'IR3']['SalePrice']"
   ]
  },
  {
   "cell_type": "code",
   "execution_count": 71,
   "id": "prompt-welsh",
   "metadata": {},
   "outputs": [
    {
     "name": "stdout",
     "output_type": "stream",
     "text": [
      "46.72876194536208 7.856968327809616e-29\n"
     ]
    }
   ],
   "source": [
    "f_stat, p_val = stats.f_oneway(g1, g2, g3, g4)\n",
    "print(f_stat, p_val)"
   ]
  },
  {
   "cell_type": "code",
   "execution_count": 69,
   "id": "amended-surveillance",
   "metadata": {},
   "outputs": [
    {
     "data": {
      "text/plain": [
       "True"
      ]
     },
     "execution_count": 69,
     "metadata": {},
     "output_type": "execute_result"
    }
   ],
   "source": [
    "p_val < 0.05"
   ]
  },
  {
   "cell_type": "code",
   "execution_count": 91,
   "id": "biological-quantum",
   "metadata": {},
   "outputs": [
    {
     "data": {
      "text/plain": [
       "array(['Gtl', 'Mod', 'Sev'], dtype=object)"
      ]
     },
     "execution_count": 91,
     "metadata": {},
     "output_type": "execute_result"
    }
   ],
   "source": [
    "df['LandSlope'].unique()"
   ]
  },
  {
   "cell_type": "code",
   "execution_count": 96,
   "id": "static-threat",
   "metadata": {},
   "outputs": [],
   "source": [
    "g1 = df[df['LandSlope'] == 'Gtl']['LotArea']\n",
    "g2 = df[df['LandSlope'] == 'Mod']['LotArea']\n",
    "g3 = df[df['LandSlope'] == 'Sev']['LotArea']"
   ]
  },
  {
   "cell_type": "code",
   "execution_count": 97,
   "id": "informational-cross",
   "metadata": {},
   "outputs": [
    {
     "name": "stdout",
     "output_type": "stream",
     "text": [
      "695.5740358660362 1.1002973603054214e-283\n"
     ]
    }
   ],
   "source": [
    "f_stat, p_val = stats.f_oneway(g1, g2, g3, g4)\n",
    "print(f_stat, p_val)"
   ]
  },
  {
   "cell_type": "code",
   "execution_count": null,
   "id": "aerial-manor",
   "metadata": {},
   "outputs": [],
   "source": []
  },
  {
   "cell_type": "markdown",
   "id": "vanilla-looking",
   "metadata": {},
   "source": [
    "# Basement Features\n"
   ]
  },
  {
   "cell_type": "code",
   "execution_count": 98,
   "id": "studied-lincoln",
   "metadata": {},
   "outputs": [],
   "source": [
    "basement_features = df[['BsmtQual',\n",
    "'BsmtCond',\n",
    "'BsmtExposure',\n",
    "'BsmtFinType1',\n",
    "'BsmtFinSF1',\n",
    "'BsmtFinType2',\n",
    "'BsmtFinSF2',\n",
    "'BsmtUnfSF',\n",
    "'TotalBsmtSF',\n",
    "'BsmtFullBath',\n",
    "'BsmtHalfBath',]]"
   ]
  },
  {
   "cell_type": "code",
   "execution_count": null,
   "id": "stupid-affiliate",
   "metadata": {},
   "outputs": [],
   "source": []
  },
  {
   "cell_type": "code",
   "execution_count": null,
   "id": "familiar-composer",
   "metadata": {},
   "outputs": [],
   "source": []
  },
  {
   "cell_type": "code",
   "execution_count": null,
   "id": "swedish-travel",
   "metadata": {},
   "outputs": [],
   "source": []
  },
  {
   "cell_type": "code",
   "execution_count": null,
   "id": "controlling-sense",
   "metadata": {},
   "outputs": [],
   "source": []
  },
  {
   "cell_type": "code",
   "execution_count": null,
   "id": "running-example",
   "metadata": {},
   "outputs": [],
   "source": []
  },
  {
   "cell_type": "code",
   "execution_count": null,
   "id": "square-category",
   "metadata": {},
   "outputs": [],
   "source": []
  },
  {
   "cell_type": "code",
   "execution_count": null,
   "id": "divided-moore",
   "metadata": {},
   "outputs": [],
   "source": []
  },
  {
   "cell_type": "code",
   "execution_count": null,
   "id": "listed-armenia",
   "metadata": {},
   "outputs": [],
   "source": []
  }
 ],
 "metadata": {
  "kernelspec": {
   "display_name": "Python 3",
   "language": "python",
   "name": "python3"
  },
  "language_info": {
   "codemirror_mode": {
    "name": "ipython",
    "version": 3
   },
   "file_extension": ".py",
   "mimetype": "text/x-python",
   "name": "python",
   "nbconvert_exporter": "python",
   "pygments_lexer": "ipython3",
   "version": "3.9.5"
  }
 },
 "nbformat": 4,
 "nbformat_minor": 5
}
